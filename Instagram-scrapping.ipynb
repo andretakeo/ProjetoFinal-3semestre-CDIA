{
 "cells": [
  {
   "cell_type": "code",
   "execution_count": 2,
   "outputs": [],
   "source": [
    "import pandas as pd"
   ],
   "metadata": {
    "collapsed": false,
    "ExecuteTime": {
     "end_time": "2023-05-30T14:00:26.988018Z",
     "start_time": "2023-05-30T14:00:24.682561Z"
    }
   }
  },
  {
   "cell_type": "code",
   "execution_count": 3,
   "outputs": [
    {
     "data": {
      "text/plain": "True"
     },
     "execution_count": 3,
     "metadata": {},
     "output_type": "execute_result"
    }
   ],
   "source": [
    "from instagrapi import Client\n",
    "\n",
    "cl = Client()\n",
    "cl.login(\"fakepucsp\", \"kjz*TWM2vwp*uen2zpt\" )\n"
   ],
   "metadata": {
    "collapsed": false,
    "ExecuteTime": {
     "end_time": "2023-05-30T14:00:37.433168Z",
     "start_time": "2023-05-30T14:00:26.981474Z"
    }
   }
  },
  {
   "cell_type": "code",
   "execution_count": 3,
   "outputs": [],
   "source": [
    "medias = cl.user_medias(8100743787, amount=20000)"
   ],
   "metadata": {
    "collapsed": false,
    "ExecuteTime": {
     "end_time": "2023-05-30T13:12:55.441846Z",
     "start_time": "2023-05-30T13:12:18.744570Z"
    }
   }
  },
  {
   "cell_type": "markdown",
   "source": [
    "# Pegar o post\n",
    "## (Post_id, like_count, comment_count, caption)"
   ],
   "metadata": {
    "collapsed": false
   }
  },
  {
   "cell_type": "code",
   "execution_count": 16,
   "outputs": [],
   "source": [
    "class Comment:\n",
    "    def __init__(self, comment):\n",
    "        self.id = comment.pk\n",
    "        self.text = comment.text\n",
    "        self.created_at = comment.created_at_utc\n",
    "        self.user = {\n",
    "            'id': comment.user.pk,\n",
    "            'username': comment.user.username,\n",
    "            'full_name': comment.user.full_name,\n",
    "            'profile_pic_url': comment.user.profile_pic_url\n",
    "        }\n",
    "\n",
    "    def to_dict(self):\n",
    "        return {\n",
    "            'id': self.id,\n",
    "            'text': self.text,\n",
    "            'created_at': self.created_at,\n",
    "            'user': self.user\n",
    "        }\n",
    "\n",
    "\n",
    "class InstagramPost:\n",
    "    def __init__(self, post):\n",
    "        self.post_id = post.pk\n",
    "        self.code = post.code\n",
    "        self.like_count = post.like_count\n",
    "        self.comment_count = post.comment_count\n",
    "        self.comments = self.get_comments()\n",
    "\n",
    "    def to_dict(self):\n",
    "        return {\n",
    "            'post_id': self.post_id,\n",
    "            'code': self.code,\n",
    "            'like_count': self.like_count,\n",
    "            'comment_count': self.comment_count,\n",
    "            'comments': self.comments,\n",
    "        }\n",
    "\n",
    "    def get_comments(self):\n",
    "        comments = cl.media_comments(int(self.post_id), amount=2000)\n",
    "        db_comments = []\n",
    "        for comment in comments:\n",
    "            db_comment = Comment(comment)\n",
    "            db_comments.append(db_comment.to_dict())\n",
    "        return db_comments\n"
   ],
   "metadata": {
    "collapsed": false,
    "ExecuteTime": {
     "end_time": "2023-05-30T13:21:20.073889Z",
     "start_time": "2023-05-30T13:21:20.067849Z"
    }
   }
  },
  {
   "cell_type": "code",
   "execution_count": 17,
   "outputs": [],
   "source": [
    "post = InstagramPost(medias[0])\n"
   ],
   "metadata": {
    "collapsed": false,
    "ExecuteTime": {
     "end_time": "2023-05-30T13:21:22.747405Z",
     "start_time": "2023-05-30T13:21:21.158355Z"
    }
   }
  },
  {
   "cell_type": "code",
   "execution_count": 20,
   "outputs": [],
   "source": [
    "posts = []"
   ],
   "metadata": {
    "collapsed": false,
    "ExecuteTime": {
     "end_time": "2023-05-30T13:21:54.475081Z",
     "start_time": "2023-05-30T13:21:54.473214Z"
    }
   }
  },
  {
   "cell_type": "code",
   "execution_count": 21,
   "outputs": [
    {
     "ename": "MediaNotFound",
     "evalue": "Media not found or unavailable",
     "output_type": "error",
     "traceback": [
      "\u001B[0;31m---------------------------------------------------------------------------\u001B[0m",
      "\u001B[0;31mHTTPError\u001B[0m                                 Traceback (most recent call last)",
      "File \u001B[0;32m/opt/anaconda3/lib/python3.9/site-packages/instagrapi/mixins/public.py:165\u001B[0m, in \u001B[0;36mPublicRequestMixin._send_public_request\u001B[0;34m(self, url, data, params, headers, return_json)\u001B[0m\n\u001B[1;32m    164\u001B[0m \u001B[38;5;28mself\u001B[39m\u001B[38;5;241m.\u001B[39mlast_public_response \u001B[38;5;241m=\u001B[39m response\n\u001B[0;32m--> 165\u001B[0m \u001B[43mresponse\u001B[49m\u001B[38;5;241;43m.\u001B[39;49m\u001B[43mraise_for_status\u001B[49m\u001B[43m(\u001B[49m\u001B[43m)\u001B[49m\n\u001B[1;32m    166\u001B[0m \u001B[38;5;28;01mif\u001B[39;00m return_json:\n",
      "File \u001B[0;32m/opt/anaconda3/lib/python3.9/site-packages/requests/models.py:1021\u001B[0m, in \u001B[0;36mResponse.raise_for_status\u001B[0;34m(self)\u001B[0m\n\u001B[1;32m   1020\u001B[0m \u001B[38;5;28;01mif\u001B[39;00m http_error_msg:\n\u001B[0;32m-> 1021\u001B[0m     \u001B[38;5;28;01mraise\u001B[39;00m HTTPError(http_error_msg, response\u001B[38;5;241m=\u001B[39m\u001B[38;5;28mself\u001B[39m)\n",
      "\u001B[0;31mHTTPError\u001B[0m: 401 Client Error: Unauthorized for url: https://www.instagram.com/graphql/query/?variables=%7B%22shortcode%22%3A%22CjQYwIErLlX%22%2C%22child_comment_count%22%3A3%2C%22fetch_comment_count%22%3A40%2C%22parent_comment_count%22%3A24%2C%22has_threaded_comments%22%3Afalse%7D&query_hash=477b65a610463740ccdb83135b2014db",
      "\nDuring handling of the above exception, another exception occurred:\n",
      "\u001B[0;31mClientError\u001B[0m                               Traceback (most recent call last)",
      "File \u001B[0;32m/opt/anaconda3/lib/python3.9/site-packages/instagrapi/mixins/media.py:259\u001B[0m, in \u001B[0;36mMediaMixin.media_info\u001B[0;34m(self, media_pk, use_cache)\u001B[0m\n\u001B[1;32m    258\u001B[0m \u001B[38;5;28;01mtry\u001B[39;00m:\n\u001B[0;32m--> 259\u001B[0m     media \u001B[38;5;241m=\u001B[39m \u001B[38;5;28;43mself\u001B[39;49m\u001B[38;5;241;43m.\u001B[39;49m\u001B[43mmedia_info_gql\u001B[49m\u001B[43m(\u001B[49m\u001B[43mmedia_pk\u001B[49m\u001B[43m)\u001B[49m\n\u001B[1;32m    260\u001B[0m \u001B[38;5;28;01mexcept\u001B[39;00m ClientLoginRequired \u001B[38;5;28;01mas\u001B[39;00m e:\n",
      "File \u001B[0;32m/opt/anaconda3/lib/python3.9/site-packages/instagrapi/mixins/media.py:204\u001B[0m, in \u001B[0;36mMediaMixin.media_info_gql\u001B[0;34m(self, media_pk)\u001B[0m\n\u001B[1;32m    197\u001B[0m variables \u001B[38;5;241m=\u001B[39m {\n\u001B[1;32m    198\u001B[0m     \u001B[38;5;124m\"\u001B[39m\u001B[38;5;124mshortcode\u001B[39m\u001B[38;5;124m\"\u001B[39m: shortcode,\n\u001B[1;32m    199\u001B[0m     \u001B[38;5;124m\"\u001B[39m\u001B[38;5;124mchild_comment_count\u001B[39m\u001B[38;5;124m\"\u001B[39m: \u001B[38;5;241m3\u001B[39m,\n\u001B[0;32m   (...)\u001B[0m\n\u001B[1;32m    202\u001B[0m     \u001B[38;5;124m\"\u001B[39m\u001B[38;5;124mhas_threaded_comments\u001B[39m\u001B[38;5;124m\"\u001B[39m: \u001B[38;5;28;01mFalse\u001B[39;00m,\n\u001B[1;32m    203\u001B[0m }\n\u001B[0;32m--> 204\u001B[0m data \u001B[38;5;241m=\u001B[39m \u001B[38;5;28;43mself\u001B[39;49m\u001B[38;5;241;43m.\u001B[39;49m\u001B[43mpublic_graphql_request\u001B[49m\u001B[43m(\u001B[49m\n\u001B[1;32m    205\u001B[0m \u001B[43m    \u001B[49m\u001B[43mvariables\u001B[49m\u001B[43m,\u001B[49m\u001B[43m \u001B[49m\u001B[43mquery_hash\u001B[49m\u001B[38;5;241;43m=\u001B[39;49m\u001B[38;5;124;43m\"\u001B[39;49m\u001B[38;5;124;43m477b65a610463740ccdb83135b2014db\u001B[39;49m\u001B[38;5;124;43m\"\u001B[39;49m\n\u001B[1;32m    206\u001B[0m \u001B[43m\u001B[49m\u001B[43m)\u001B[49m\n\u001B[1;32m    207\u001B[0m \u001B[38;5;28;01mif\u001B[39;00m \u001B[38;5;129;01mnot\u001B[39;00m data\u001B[38;5;241m.\u001B[39mget(\u001B[38;5;124m\"\u001B[39m\u001B[38;5;124mshortcode_media\u001B[39m\u001B[38;5;124m\"\u001B[39m):\n",
      "File \u001B[0;32m/opt/anaconda3/lib/python3.9/site-packages/instagrapi/mixins/public.py:245\u001B[0m, in \u001B[0;36mPublicRequestMixin.public_graphql_request\u001B[0;34m(self, variables, query_hash, query_id, data, params, headers)\u001B[0m\n\u001B[1;32m    244\u001B[0m \u001B[38;5;28;01mtry\u001B[39;00m:\n\u001B[0;32m--> 245\u001B[0m     body_json \u001B[38;5;241m=\u001B[39m \u001B[38;5;28;43mself\u001B[39;49m\u001B[38;5;241;43m.\u001B[39;49m\u001B[43mpublic_request\u001B[49m\u001B[43m(\u001B[49m\n\u001B[1;32m    246\u001B[0m \u001B[43m        \u001B[49m\u001B[38;5;28;43mself\u001B[39;49m\u001B[38;5;241;43m.\u001B[39;49m\u001B[43mGRAPHQL_PUBLIC_API_URL\u001B[49m\u001B[43m,\u001B[49m\n\u001B[1;32m    247\u001B[0m \u001B[43m        \u001B[49m\u001B[43mdata\u001B[49m\u001B[38;5;241;43m=\u001B[39;49m\u001B[43mdata\u001B[49m\u001B[43m,\u001B[49m\n\u001B[1;32m    248\u001B[0m \u001B[43m        \u001B[49m\u001B[43mparams\u001B[49m\u001B[38;5;241;43m=\u001B[39;49m\u001B[43mparams\u001B[49m\u001B[43m,\u001B[49m\n\u001B[1;32m    249\u001B[0m \u001B[43m        \u001B[49m\u001B[43mheaders\u001B[49m\u001B[38;5;241;43m=\u001B[39;49m\u001B[43mheaders\u001B[49m\u001B[43m,\u001B[49m\n\u001B[1;32m    250\u001B[0m \u001B[43m        \u001B[49m\u001B[43mreturn_json\u001B[49m\u001B[38;5;241;43m=\u001B[39;49m\u001B[38;5;28;43;01mTrue\u001B[39;49;00m\u001B[43m,\u001B[49m\n\u001B[1;32m    251\u001B[0m \u001B[43m    \u001B[49m\u001B[43m)\u001B[49m\n\u001B[1;32m    253\u001B[0m     \u001B[38;5;28;01mif\u001B[39;00m body_json\u001B[38;5;241m.\u001B[39mget(\u001B[38;5;124m\"\u001B[39m\u001B[38;5;124mstatus\u001B[39m\u001B[38;5;124m\"\u001B[39m, \u001B[38;5;28;01mNone\u001B[39;00m) \u001B[38;5;241m!=\u001B[39m \u001B[38;5;124m\"\u001B[39m\u001B[38;5;124mok\u001B[39m\u001B[38;5;124m\"\u001B[39m:\n",
      "File \u001B[0;32m/opt/anaconda3/lib/python3.9/site-packages/instagrapi/mixins/public.py:122\u001B[0m, in \u001B[0;36mPublicRequestMixin.public_request\u001B[0;34m(self, url, data, params, headers, return_json, retries_count, retries_timeout)\u001B[0m\n\u001B[1;32m    121\u001B[0m \u001B[38;5;28;01melse\u001B[39;00m:\n\u001B[0;32m--> 122\u001B[0m     \u001B[38;5;28;01mraise\u001B[39;00m e\n\u001B[1;32m    123\u001B[0m \u001B[38;5;28;01mcontinue\u001B[39;00m\n",
      "File \u001B[0;32m/opt/anaconda3/lib/python3.9/site-packages/instagrapi/mixins/public.py:99\u001B[0m, in \u001B[0;36mPublicRequestMixin.public_request\u001B[0;34m(self, url, data, params, headers, return_json, retries_count, retries_timeout)\u001B[0m\n\u001B[1;32m     98\u001B[0m         random_delay(delay_range\u001B[38;5;241m=\u001B[39m\u001B[38;5;28mself\u001B[39m\u001B[38;5;241m.\u001B[39mdelay_range)\n\u001B[0;32m---> 99\u001B[0m     \u001B[38;5;28;01mreturn\u001B[39;00m \u001B[38;5;28;43mself\u001B[39;49m\u001B[38;5;241;43m.\u001B[39;49m\u001B[43m_send_public_request\u001B[49m\u001B[43m(\u001B[49m\u001B[43murl\u001B[49m\u001B[43m,\u001B[49m\u001B[43m \u001B[49m\u001B[38;5;241;43m*\u001B[39;49m\u001B[38;5;241;43m*\u001B[39;49m\u001B[43mkwargs\u001B[49m\u001B[43m)\u001B[49m\n\u001B[1;32m    100\u001B[0m \u001B[38;5;28;01mexcept\u001B[39;00m (\n\u001B[1;32m    101\u001B[0m     ClientLoginRequired,\n\u001B[1;32m    102\u001B[0m     ClientNotFoundError,\n\u001B[1;32m    103\u001B[0m     ClientBadRequestError,\n\u001B[1;32m    104\u001B[0m ) \u001B[38;5;28;01mas\u001B[39;00m e:\n",
      "File \u001B[0;32m/opt/anaconda3/lib/python3.9/site-packages/instagrapi/mixins/public.py:198\u001B[0m, in \u001B[0;36mPublicRequestMixin._send_public_request\u001B[0;34m(self, url, data, params, headers, return_json)\u001B[0m\n\u001B[1;32m    196\u001B[0m         \u001B[38;5;28;01mraise\u001B[39;00m ClientNotFoundError(e, response\u001B[38;5;241m=\u001B[39me\u001B[38;5;241m.\u001B[39mresponse)\n\u001B[0;32m--> 198\u001B[0m     \u001B[38;5;28;01mraise\u001B[39;00m ClientError(e, response\u001B[38;5;241m=\u001B[39me\u001B[38;5;241m.\u001B[39mresponse)\n\u001B[1;32m    200\u001B[0m \u001B[38;5;28;01mexcept\u001B[39;00m requests\u001B[38;5;241m.\u001B[39mConnectionError \u001B[38;5;28;01mas\u001B[39;00m e:\n",
      "\u001B[0;31mClientError\u001B[0m: 401 Client Error: Unauthorized for url: https://www.instagram.com/graphql/query/?variables=%7B%22shortcode%22%3A%22CjQYwIErLlX%22%2C%22child_comment_count%22%3A3%2C%22fetch_comment_count%22%3A40%2C%22parent_comment_count%22%3A24%2C%22has_threaded_comments%22%3Afalse%7D&query_hash=477b65a610463740ccdb83135b2014db",
      "\nDuring handling of the above exception, another exception occurred:\n",
      "\u001B[0;31mHTTPError\u001B[0m                                 Traceback (most recent call last)",
      "File \u001B[0;32m/opt/anaconda3/lib/python3.9/site-packages/instagrapi/mixins/private.py:360\u001B[0m, in \u001B[0;36mPrivateRequestMixin._send_private_request\u001B[0;34m(self, endpoint, data, params, login, with_signature, headers, extra_sig, domain)\u001B[0m\n\u001B[1;32m    359\u001B[0m \u001B[38;5;28mself\u001B[39m\u001B[38;5;241m.\u001B[39mlast_response \u001B[38;5;241m=\u001B[39m response\n\u001B[0;32m--> 360\u001B[0m \u001B[43mresponse\u001B[49m\u001B[38;5;241;43m.\u001B[39;49m\u001B[43mraise_for_status\u001B[49m\u001B[43m(\u001B[49m\u001B[43m)\u001B[49m\n\u001B[1;32m    361\u001B[0m \u001B[38;5;66;03m# last_json - for Sentry context in traceback\u001B[39;00m\n",
      "File \u001B[0;32m/opt/anaconda3/lib/python3.9/site-packages/requests/models.py:1021\u001B[0m, in \u001B[0;36mResponse.raise_for_status\u001B[0;34m(self)\u001B[0m\n\u001B[1;32m   1020\u001B[0m \u001B[38;5;28;01mif\u001B[39;00m http_error_msg:\n\u001B[0;32m-> 1021\u001B[0m     \u001B[38;5;28;01mraise\u001B[39;00m HTTPError(http_error_msg, response\u001B[38;5;241m=\u001B[39m\u001B[38;5;28mself\u001B[39m)\n",
      "\u001B[0;31mHTTPError\u001B[0m: 400 Client Error: Bad Request for url: https://i.instagram.com/api/v1/media/2940959416992446807/info/",
      "\nDuring handling of the above exception, another exception occurred:\n",
      "\u001B[0;31mMediaUnavailable\u001B[0m                          Traceback (most recent call last)",
      "File \u001B[0;32m/opt/anaconda3/lib/python3.9/site-packages/instagrapi/mixins/media.py:230\u001B[0m, in \u001B[0;36mMediaMixin.media_info_v1\u001B[0;34m(self, media_pk)\u001B[0m\n\u001B[1;32m    229\u001B[0m \u001B[38;5;28;01mtry\u001B[39;00m:\n\u001B[0;32m--> 230\u001B[0m     result \u001B[38;5;241m=\u001B[39m \u001B[38;5;28;43mself\u001B[39;49m\u001B[38;5;241;43m.\u001B[39;49m\u001B[43mprivate_request\u001B[49m\u001B[43m(\u001B[49m\u001B[38;5;124;43mf\u001B[39;49m\u001B[38;5;124;43m\"\u001B[39;49m\u001B[38;5;124;43mmedia/\u001B[39;49m\u001B[38;5;132;43;01m{\u001B[39;49;00m\u001B[43mmedia_pk\u001B[49m\u001B[38;5;132;43;01m}\u001B[39;49;00m\u001B[38;5;124;43m/info/\u001B[39;49m\u001B[38;5;124;43m\"\u001B[39;49m\u001B[43m)\u001B[49m\n\u001B[1;32m    231\u001B[0m \u001B[38;5;28;01mexcept\u001B[39;00m ClientNotFoundError \u001B[38;5;28;01mas\u001B[39;00m e:\n",
      "File \u001B[0;32m/opt/anaconda3/lib/python3.9/site-packages/instagrapi/mixins/private.py:535\u001B[0m, in \u001B[0;36mPrivateRequestMixin.private_request\u001B[0;34m(self, endpoint, data, params, login, with_signature, headers, extra_sig, domain)\u001B[0m\n\u001B[1;32m    534\u001B[0m \u001B[38;5;28;01melse\u001B[39;00m:\n\u001B[0;32m--> 535\u001B[0m     \u001B[38;5;28;01mraise\u001B[39;00m e\n\u001B[1;32m    536\u001B[0m \u001B[38;5;28;01mif\u001B[39;00m login \u001B[38;5;129;01mand\u001B[39;00m \u001B[38;5;28mself\u001B[39m\u001B[38;5;241m.\u001B[39muser_id:\n\u001B[1;32m    537\u001B[0m     \u001B[38;5;66;03m# After challenge resolve return last_json\u001B[39;00m\n",
      "File \u001B[0;32m/opt/anaconda3/lib/python3.9/site-packages/instagrapi/mixins/private.py:520\u001B[0m, in \u001B[0;36mPrivateRequestMixin.private_request\u001B[0;34m(self, endpoint, data, params, login, with_signature, headers, extra_sig, domain)\u001B[0m\n\u001B[1;32m    519\u001B[0m     \u001B[38;5;28mself\u001B[39m\u001B[38;5;241m.\u001B[39mprivate_requests_count \u001B[38;5;241m+\u001B[39m\u001B[38;5;241m=\u001B[39m \u001B[38;5;241m1\u001B[39m\n\u001B[0;32m--> 520\u001B[0m     \u001B[38;5;28;43mself\u001B[39;49m\u001B[38;5;241;43m.\u001B[39;49m\u001B[43m_send_private_request\u001B[49m\u001B[43m(\u001B[49m\u001B[43mendpoint\u001B[49m\u001B[43m,\u001B[49m\u001B[43m \u001B[49m\u001B[38;5;241;43m*\u001B[39;49m\u001B[38;5;241;43m*\u001B[39;49m\u001B[43mkwargs\u001B[49m\u001B[43m)\u001B[49m\n\u001B[1;32m    521\u001B[0m \u001B[38;5;28;01mexcept\u001B[39;00m ClientRequestTimeout:\n",
      "File \u001B[0;32m/opt/anaconda3/lib/python3.9/site-packages/instagrapi/mixins/private.py:424\u001B[0m, in \u001B[0;36mPrivateRequestMixin._send_private_request\u001B[0;34m(self, endpoint, data, params, login, with_signature, headers, extra_sig, domain)\u001B[0m\n\u001B[1;32m    420\u001B[0m \u001B[38;5;28;01melif\u001B[39;00m (\n\u001B[1;32m    421\u001B[0m     \u001B[38;5;124m\"\u001B[39m\u001B[38;5;124mMedia is unavailable\u001B[39m\u001B[38;5;124m\"\u001B[39m \u001B[38;5;129;01min\u001B[39;00m message\n\u001B[1;32m    422\u001B[0m     \u001B[38;5;129;01mor\u001B[39;00m \u001B[38;5;124m\"\u001B[39m\u001B[38;5;124mMedia not found or unavailable\u001B[39m\u001B[38;5;124m\"\u001B[39m \u001B[38;5;129;01min\u001B[39;00m message\n\u001B[1;32m    423\u001B[0m ):\n\u001B[0;32m--> 424\u001B[0m     \u001B[38;5;28;01mraise\u001B[39;00m MediaUnavailable(e, response\u001B[38;5;241m=\u001B[39me\u001B[38;5;241m.\u001B[39mresponse, \u001B[38;5;241m*\u001B[39m\u001B[38;5;241m*\u001B[39mlast_json)\n\u001B[1;32m    425\u001B[0m \u001B[38;5;28;01melif\u001B[39;00m \u001B[38;5;124m\"\u001B[39m\u001B[38;5;124mhas been deleted\u001B[39m\u001B[38;5;124m\"\u001B[39m \u001B[38;5;129;01min\u001B[39;00m message:\n\u001B[1;32m    426\u001B[0m     \u001B[38;5;66;03m# Sorry, this photo has been deleted.\u001B[39;00m\n",
      "\u001B[0;31mMediaUnavailable\u001B[0m: Media not found or unavailable",
      "\nDuring handling of the above exception, another exception occurred:\n",
      "\u001B[0;31mMediaNotFound\u001B[0m                             Traceback (most recent call last)",
      "Input \u001B[0;32mIn [21]\u001B[0m, in \u001B[0;36m<cell line: 1>\u001B[0;34m()\u001B[0m\n\u001B[1;32m      1\u001B[0m \u001B[38;5;28;01mfor\u001B[39;00m media \u001B[38;5;129;01min\u001B[39;00m medias:\n\u001B[0;32m----> 2\u001B[0m     post \u001B[38;5;241m=\u001B[39m \u001B[43mInstagramPost\u001B[49m\u001B[43m(\u001B[49m\u001B[43mmedia\u001B[49m\u001B[43m)\u001B[49m\n\u001B[1;32m      3\u001B[0m     posts\u001B[38;5;241m.\u001B[39mappend(post\u001B[38;5;241m.\u001B[39mto_dict())\n",
      "Input \u001B[0;32mIn [16]\u001B[0m, in \u001B[0;36mInstagramPost.__init__\u001B[0;34m(self, post)\u001B[0m\n\u001B[1;32m     26\u001B[0m \u001B[38;5;28mself\u001B[39m\u001B[38;5;241m.\u001B[39mlike_count \u001B[38;5;241m=\u001B[39m post\u001B[38;5;241m.\u001B[39mlike_count\n\u001B[1;32m     27\u001B[0m \u001B[38;5;28mself\u001B[39m\u001B[38;5;241m.\u001B[39mcomment_count \u001B[38;5;241m=\u001B[39m post\u001B[38;5;241m.\u001B[39mcomment_count\n\u001B[0;32m---> 28\u001B[0m \u001B[38;5;28mself\u001B[39m\u001B[38;5;241m.\u001B[39mcomments \u001B[38;5;241m=\u001B[39m \u001B[38;5;28;43mself\u001B[39;49m\u001B[38;5;241;43m.\u001B[39;49m\u001B[43mget_comments\u001B[49m\u001B[43m(\u001B[49m\u001B[43m)\u001B[49m\n",
      "Input \u001B[0;32mIn [16]\u001B[0m, in \u001B[0;36mInstagramPost.get_comments\u001B[0;34m(self)\u001B[0m\n\u001B[1;32m     39\u001B[0m \u001B[38;5;28;01mdef\u001B[39;00m \u001B[38;5;21mget_comments\u001B[39m(\u001B[38;5;28mself\u001B[39m):\n\u001B[0;32m---> 40\u001B[0m     comments \u001B[38;5;241m=\u001B[39m \u001B[43mcl\u001B[49m\u001B[38;5;241;43m.\u001B[39;49m\u001B[43mmedia_comments\u001B[49m\u001B[43m(\u001B[49m\u001B[38;5;28;43mint\u001B[39;49m\u001B[43m(\u001B[49m\u001B[38;5;28;43mself\u001B[39;49m\u001B[38;5;241;43m.\u001B[39;49m\u001B[43mpost_id\u001B[49m\u001B[43m)\u001B[49m\u001B[43m,\u001B[49m\u001B[43m \u001B[49m\u001B[43mamount\u001B[49m\u001B[38;5;241;43m=\u001B[39;49m\u001B[38;5;241;43m2000\u001B[39;49m\u001B[43m)\u001B[49m\n\u001B[1;32m     41\u001B[0m     db_comments \u001B[38;5;241m=\u001B[39m []\n\u001B[1;32m     42\u001B[0m     \u001B[38;5;28;01mfor\u001B[39;00m comment \u001B[38;5;129;01min\u001B[39;00m comments:\n",
      "File \u001B[0;32m/opt/anaconda3/lib/python3.9/site-packages/instagrapi/mixins/comment.py:37\u001B[0m, in \u001B[0;36mCommentMixin.media_comments\u001B[0;34m(self, media_id, amount)\u001B[0m\n\u001B[1;32m     34\u001B[0m         \u001B[38;5;28;01mfor\u001B[39;00m comment \u001B[38;5;129;01min\u001B[39;00m result\u001B[38;5;241m.\u001B[39mget(\u001B[38;5;124m\"\u001B[39m\u001B[38;5;124mcomments\u001B[39m\u001B[38;5;124m\"\u001B[39m):\n\u001B[1;32m     35\u001B[0m             comments\u001B[38;5;241m.\u001B[39mappend(extract_comment(comment))\n\u001B[0;32m---> 37\u001B[0m media_id \u001B[38;5;241m=\u001B[39m \u001B[38;5;28;43mself\u001B[39;49m\u001B[38;5;241;43m.\u001B[39;49m\u001B[43mmedia_id\u001B[49m\u001B[43m(\u001B[49m\u001B[43mmedia_id\u001B[49m\u001B[43m)\u001B[49m\n\u001B[1;32m     38\u001B[0m params \u001B[38;5;241m=\u001B[39m \u001B[38;5;28;01mNone\u001B[39;00m\n\u001B[1;32m     39\u001B[0m comments \u001B[38;5;241m=\u001B[39m []\n",
      "File \u001B[0;32m/opt/anaconda3/lib/python3.9/site-packages/instagrapi/mixins/media.py:57\u001B[0m, in \u001B[0;36mMediaMixin.media_id\u001B[0;34m(self, media_pk)\u001B[0m\n\u001B[1;32m     53\u001B[0m \u001B[38;5;28;01mif\u001B[39;00m \u001B[38;5;124m\"\u001B[39m\u001B[38;5;124m_\u001B[39m\u001B[38;5;124m\"\u001B[39m \u001B[38;5;129;01mnot\u001B[39;00m \u001B[38;5;129;01min\u001B[39;00m media_id:\n\u001B[1;32m     54\u001B[0m     \u001B[38;5;28;01massert\u001B[39;00m media_id\u001B[38;5;241m.\u001B[39misdigit(), (\n\u001B[1;32m     55\u001B[0m         \u001B[38;5;124m\"\u001B[39m\u001B[38;5;124mmedia_id must been contain digits, now \u001B[39m\u001B[38;5;132;01m%s\u001B[39;00m\u001B[38;5;124m\"\u001B[39m \u001B[38;5;241m%\u001B[39m media_id\n\u001B[1;32m     56\u001B[0m     )\n\u001B[0;32m---> 57\u001B[0m     user \u001B[38;5;241m=\u001B[39m \u001B[38;5;28;43mself\u001B[39;49m\u001B[38;5;241;43m.\u001B[39;49m\u001B[43mmedia_user\u001B[49m\u001B[43m(\u001B[49m\u001B[43mmedia_id\u001B[49m\u001B[43m)\u001B[49m\n\u001B[1;32m     58\u001B[0m     media_id \u001B[38;5;241m=\u001B[39m \u001B[38;5;124m\"\u001B[39m\u001B[38;5;132;01m%s\u001B[39;00m\u001B[38;5;124m_\u001B[39m\u001B[38;5;132;01m%s\u001B[39;00m\u001B[38;5;124m\"\u001B[39m \u001B[38;5;241m%\u001B[39m (media_id, user\u001B[38;5;241m.\u001B[39mpk)\n\u001B[1;32m     59\u001B[0m \u001B[38;5;28;01mreturn\u001B[39;00m media_id\n",
      "File \u001B[0;32m/opt/anaconda3/lib/python3.9/site-packages/instagrapi/mixins/media.py:372\u001B[0m, in \u001B[0;36mMediaMixin.media_user\u001B[0;34m(self, media_pk)\u001B[0m\n\u001B[1;32m    358\u001B[0m \u001B[38;5;28;01mdef\u001B[39;00m \u001B[38;5;21mmedia_user\u001B[39m(\u001B[38;5;28mself\u001B[39m, media_pk: \u001B[38;5;28mstr\u001B[39m) \u001B[38;5;241m-\u001B[39m\u001B[38;5;241m>\u001B[39m UserShort:\n\u001B[1;32m    359\u001B[0m \u001B[38;5;250m    \u001B[39m\u001B[38;5;124;03m\"\"\"\u001B[39;00m\n\u001B[1;32m    360\u001B[0m \u001B[38;5;124;03m    Get author of the media\u001B[39;00m\n\u001B[1;32m    361\u001B[0m \n\u001B[0;32m   (...)\u001B[0m\n\u001B[1;32m    370\u001B[0m \u001B[38;5;124;03m        An object of UserShort\u001B[39;00m\n\u001B[1;32m    371\u001B[0m \u001B[38;5;124;03m    \"\"\"\u001B[39;00m\n\u001B[0;32m--> 372\u001B[0m     \u001B[38;5;28;01mreturn\u001B[39;00m \u001B[38;5;28;43mself\u001B[39;49m\u001B[38;5;241;43m.\u001B[39;49m\u001B[43mmedia_info\u001B[49m\u001B[43m(\u001B[49m\u001B[43mmedia_pk\u001B[49m\u001B[43m)\u001B[49m\u001B[38;5;241m.\u001B[39muser\n",
      "File \u001B[0;32m/opt/anaconda3/lib/python3.9/site-packages/instagrapi/mixins/media.py:269\u001B[0m, in \u001B[0;36mMediaMixin.media_info\u001B[0;34m(self, media_pk, use_cache)\u001B[0m\n\u001B[1;32m    266\u001B[0m             \u001B[38;5;28mself\u001B[39m\u001B[38;5;241m.\u001B[39mlogger\u001B[38;5;241m.\u001B[39mexception(e)  \u001B[38;5;66;03m# Register unknown error\u001B[39;00m\n\u001B[1;32m    267\u001B[0m         \u001B[38;5;66;03m# Restricted Video: This video is not available in your country.\u001B[39;00m\n\u001B[1;32m    268\u001B[0m         \u001B[38;5;66;03m# Or private account\u001B[39;00m\n\u001B[0;32m--> 269\u001B[0m         media \u001B[38;5;241m=\u001B[39m \u001B[38;5;28;43mself\u001B[39;49m\u001B[38;5;241;43m.\u001B[39;49m\u001B[43mmedia_info_v1\u001B[49m\u001B[43m(\u001B[49m\u001B[43mmedia_pk\u001B[49m\u001B[43m)\u001B[49m\n\u001B[1;32m    270\u001B[0m     \u001B[38;5;28mself\u001B[39m\u001B[38;5;241m.\u001B[39m_medias_cache[media_pk] \u001B[38;5;241m=\u001B[39m media\n\u001B[1;32m    271\u001B[0m \u001B[38;5;28;01mreturn\u001B[39;00m deepcopy(\n\u001B[1;32m    272\u001B[0m     \u001B[38;5;28mself\u001B[39m\u001B[38;5;241m.\u001B[39m_medias_cache[media_pk]\n\u001B[1;32m    273\u001B[0m )\n",
      "File \u001B[0;32m/opt/anaconda3/lib/python3.9/site-packages/instagrapi/mixins/media.py:235\u001B[0m, in \u001B[0;36mMediaMixin.media_info_v1\u001B[0;34m(self, media_pk)\u001B[0m\n\u001B[1;32m    233\u001B[0m \u001B[38;5;28;01mexcept\u001B[39;00m ClientError \u001B[38;5;28;01mas\u001B[39;00m e:\n\u001B[1;32m    234\u001B[0m     \u001B[38;5;28;01mif\u001B[39;00m \u001B[38;5;124m\"\u001B[39m\u001B[38;5;124mMedia not found\u001B[39m\u001B[38;5;124m\"\u001B[39m \u001B[38;5;129;01min\u001B[39;00m \u001B[38;5;28mstr\u001B[39m(e):\n\u001B[0;32m--> 235\u001B[0m         \u001B[38;5;28;01mraise\u001B[39;00m MediaNotFound(e, media_pk\u001B[38;5;241m=\u001B[39mmedia_pk, \u001B[38;5;241m*\u001B[39m\u001B[38;5;241m*\u001B[39m\u001B[38;5;28mself\u001B[39m\u001B[38;5;241m.\u001B[39mlast_json)\n\u001B[1;32m    236\u001B[0m     \u001B[38;5;28;01mraise\u001B[39;00m e\n\u001B[1;32m    237\u001B[0m \u001B[38;5;28;01mreturn\u001B[39;00m extract_media_v1(result[\u001B[38;5;124m\"\u001B[39m\u001B[38;5;124mitems\u001B[39m\u001B[38;5;124m\"\u001B[39m]\u001B[38;5;241m.\u001B[39mpop())\n",
      "\u001B[0;31mMediaNotFound\u001B[0m: Media not found or unavailable"
     ]
    }
   ],
   "source": [
    "for media in medias:\n",
    "    post = InstagramPost(media)\n",
    "    posts.append(post.to_dict())"
   ],
   "metadata": {
    "collapsed": false,
    "ExecuteTime": {
     "end_time": "2023-05-30T13:40:01.326169Z",
     "start_time": "2023-05-30T13:22:00.870821Z"
    }
   }
  },
  {
   "cell_type": "code",
   "execution_count": 23,
   "outputs": [
    {
     "data": {
      "text/plain": "84"
     },
     "execution_count": 23,
     "metadata": {},
     "output_type": "execute_result"
    }
   ],
   "source": [
    "len(posts)"
   ],
   "metadata": {
    "collapsed": false,
    "ExecuteTime": {
     "end_time": "2023-05-30T13:41:08.423804Z",
     "start_time": "2023-05-30T13:41:08.379693Z"
    }
   }
  },
  {
   "cell_type": "code",
   "execution_count": 25,
   "outputs": [
    {
     "data": {
      "text/plain": "                post_id         code  like_count  comment_count  \\\n0   3113482062514311327  Cs1T3Cet1Cf          15              3   \n1   3111337941892634069  CstsV-itJXV          31              8   \n2   3111202410609094998  CstNhvMsbFW          54              5   \n3   3110587768962666946  CsrBxhjsdHC          54              6   \n4   3108393556272069038  CsjO3hvtbmu          61             13   \n..                  ...          ...         ...            ...   \n79  2953414533197978105  Cj8ot69vdn5         125             20   \n80  2952635998073071159  Cj53svoLSY3         105              3   \n81  2943936163741390054  Cja9lfhO1Tm          36              8   \n82  2943279885079851949  CjYoXYYvLOt         379             26   \n83  2942474024995634624  CjVxIksrb3A         265             25   \n\n                                             comments  \n0   [{'id': '17996107048777864', 'text': '@lesalom...  \n1   [{'id': '17893508078762772', 'text': 'Bom dia ...  \n2   [{'id': '17976621248096093', 'text': '@roberta...  \n3   [{'id': '17847646703990582', 'text': '@alineso...  \n4   [{'id': '17957840816403715', 'text': '@anabric...  \n..                                                ...  \n79  [{'id': '17948515151425318', 'text': 'Comprei ...  \n80  [{'id': '17986911433646556', 'text': '😍', 'cre...  \n81  [{'id': '18064056190330320', 'text': '@lais.ad...  \n82  [{'id': '18296917999078754', 'text': '@relille...  \n83  [{'id': '17842931975935791', 'text': '@mayarag...  \n\n[84 rows x 5 columns]",
      "text/html": "<div>\n<style scoped>\n    .dataframe tbody tr th:only-of-type {\n        vertical-align: middle;\n    }\n\n    .dataframe tbody tr th {\n        vertical-align: top;\n    }\n\n    .dataframe thead th {\n        text-align: right;\n    }\n</style>\n<table border=\"1\" class=\"dataframe\">\n  <thead>\n    <tr style=\"text-align: right;\">\n      <th></th>\n      <th>post_id</th>\n      <th>code</th>\n      <th>like_count</th>\n      <th>comment_count</th>\n      <th>comments</th>\n    </tr>\n  </thead>\n  <tbody>\n    <tr>\n      <th>0</th>\n      <td>3113482062514311327</td>\n      <td>Cs1T3Cet1Cf</td>\n      <td>15</td>\n      <td>3</td>\n      <td>[{'id': '17996107048777864', 'text': '@lesalom...</td>\n    </tr>\n    <tr>\n      <th>1</th>\n      <td>3111337941892634069</td>\n      <td>CstsV-itJXV</td>\n      <td>31</td>\n      <td>8</td>\n      <td>[{'id': '17893508078762772', 'text': 'Bom dia ...</td>\n    </tr>\n    <tr>\n      <th>2</th>\n      <td>3111202410609094998</td>\n      <td>CstNhvMsbFW</td>\n      <td>54</td>\n      <td>5</td>\n      <td>[{'id': '17976621248096093', 'text': '@roberta...</td>\n    </tr>\n    <tr>\n      <th>3</th>\n      <td>3110587768962666946</td>\n      <td>CsrBxhjsdHC</td>\n      <td>54</td>\n      <td>6</td>\n      <td>[{'id': '17847646703990582', 'text': '@alineso...</td>\n    </tr>\n    <tr>\n      <th>4</th>\n      <td>3108393556272069038</td>\n      <td>CsjO3hvtbmu</td>\n      <td>61</td>\n      <td>13</td>\n      <td>[{'id': '17957840816403715', 'text': '@anabric...</td>\n    </tr>\n    <tr>\n      <th>...</th>\n      <td>...</td>\n      <td>...</td>\n      <td>...</td>\n      <td>...</td>\n      <td>...</td>\n    </tr>\n    <tr>\n      <th>79</th>\n      <td>2953414533197978105</td>\n      <td>Cj8ot69vdn5</td>\n      <td>125</td>\n      <td>20</td>\n      <td>[{'id': '17948515151425318', 'text': 'Comprei ...</td>\n    </tr>\n    <tr>\n      <th>80</th>\n      <td>2952635998073071159</td>\n      <td>Cj53svoLSY3</td>\n      <td>105</td>\n      <td>3</td>\n      <td>[{'id': '17986911433646556', 'text': '😍', 'cre...</td>\n    </tr>\n    <tr>\n      <th>81</th>\n      <td>2943936163741390054</td>\n      <td>Cja9lfhO1Tm</td>\n      <td>36</td>\n      <td>8</td>\n      <td>[{'id': '18064056190330320', 'text': '@lais.ad...</td>\n    </tr>\n    <tr>\n      <th>82</th>\n      <td>2943279885079851949</td>\n      <td>CjYoXYYvLOt</td>\n      <td>379</td>\n      <td>26</td>\n      <td>[{'id': '18296917999078754', 'text': '@relille...</td>\n    </tr>\n    <tr>\n      <th>83</th>\n      <td>2942474024995634624</td>\n      <td>CjVxIksrb3A</td>\n      <td>265</td>\n      <td>25</td>\n      <td>[{'id': '17842931975935791', 'text': '@mayarag...</td>\n    </tr>\n  </tbody>\n</table>\n<p>84 rows × 5 columns</p>\n</div>"
     },
     "execution_count": 25,
     "metadata": {},
     "output_type": "execute_result"
    }
   ],
   "source": [
    "pd.DataFrame(posts)"
   ],
   "metadata": {
    "collapsed": false,
    "ExecuteTime": {
     "end_time": "2023-05-30T13:42:08.182457Z",
     "start_time": "2023-05-30T13:42:08.057520Z"
    }
   }
  },
  {
   "cell_type": "code",
   "execution_count": null,
   "outputs": [],
   "source": [],
   "metadata": {
    "collapsed": false
   }
  }
 ],
 "metadata": {
  "kernelspec": {
   "display_name": "Python 3",
   "language": "python",
   "name": "python3"
  },
  "language_info": {
   "codemirror_mode": {
    "name": "ipython",
    "version": 2
   },
   "file_extension": ".py",
   "mimetype": "text/x-python",
   "name": "python",
   "nbconvert_exporter": "python",
   "pygments_lexer": "ipython2",
   "version": "2.7.6"
  }
 },
 "nbformat": 4,
 "nbformat_minor": 0
}
